{
  "nbformat": 4,
  "nbformat_minor": 0,
  "metadata": {
    "colab": {
      "provenance": [],
      "authorship_tag": "ABX9TyN2SvnFtxfQ3kcgeCJtYH+G",
      "include_colab_link": true
    },
    "kernelspec": {
      "name": "python3",
      "display_name": "Python 3"
    },
    "language_info": {
      "name": "python"
    }
  },
  "cells": [
    {
      "cell_type": "markdown",
      "metadata": {
        "id": "view-in-github",
        "colab_type": "text"
      },
      "source": [
        "<a href=\"https://colab.research.google.com/github/laure-m/datasets/blob/main/ImgBatchCropResize.ipynb\" target=\"_parent\"><img src=\"https://colab.research.google.com/assets/colab-badge.svg\" alt=\"Open In Colab\"/></a>"
      ]
    },
    {
      "cell_type": "markdown",
      "source": [
        "# **BATCH IMAGE CROP + RESIZE**"
      ],
      "metadata": {
        "id": "ckwBXjgnDwBy"
      }
    },
    {
      "cell_type": "markdown",
      "source": [
        "Mount to your google drive"
      ],
      "metadata": {
        "id": "cExtuJ8ODIZq"
      }
    },
    {
      "cell_type": "code",
      "source": [
        "from google.colab import drive\n",
        "drive.mount('/content/drive')"
      ],
      "metadata": {
        "colab": {
          "base_uri": "https://localhost:8080/"
        },
        "id": "Nf_vlA8_23MT",
        "outputId": "ae520d38-f83d-49ae-fd4d-0b9e52826205"
      },
      "execution_count": 8,
      "outputs": [
        {
          "output_type": "stream",
          "name": "stdout",
          "text": [
            "Drive already mounted at /content/drive; to attempt to forcibly remount, call drive.mount(\"/content/drive\", force_remount=True).\n"
          ]
        }
      ]
    },
    {
      "cell_type": "markdown",
      "source": [
        "First - Upload your dataset to a specific folder on your drive\n",
        "\n",
        "Then copy that path to the **\"path = \"** string below"
      ],
      "metadata": {
        "id": "oEL8lJYRDLMN"
      }
    },
    {
      "cell_type": "code",
      "source": [
        "import PIL\n",
        "from PIL import Image\n",
        "import os\n",
        "import sys\n",
        "\n",
        "path = '/content/drive/MyDrive/LORA_Training/datasets/test2/'\n",
        "dirs = os.listdir( path )\n",
        "\n",
        "def resize():\n",
        "    for item in dirs:\n",
        "        if os.path.isfile(path+item):\n",
        "            im = Image.open(path+item)\n",
        "            f, e = os.path.splitext(path+item)\n",
        "            imResize = im.resize((512,512), PIL.Image.LANCZOS)\n",
        "            imResize.save(f + ' resized.png', 'png', quality=90)\n",
        "\n",
        "resize()"
      ],
      "metadata": {
        "id": "yqByxLeN6Y7j"
      },
      "execution_count": 10,
      "outputs": []
    },
    {
      "cell_type": "markdown",
      "source": [
        "Download that folder and partition the images"
      ],
      "metadata": {
        "id": "1DLe31BZDmjB"
      }
    }
  ]
}